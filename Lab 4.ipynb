{
 "cells": [
  {
   "cell_type": "markdown",
   "metadata": {},
   "source": [
    "# Lab 4: Creating Databases\n",
    "- 3 main pathways: glycolysis, citric cycle, and pentose phosphate pathway\n",
    "- Take genes from Drosophila, E. coli, and humans\n",
    "- Create two tables with the following rows: \n",
    "    1. Genes\n",
    "    2. Pathways\n",
    "- **Genes Table:**\n",
    "    - Fields: name, description, organism, and nucleotide sequence\n",
    "    - Extra fields: chromosome, start and end position, strand, and translated sequence\n",
    "    - Eukaryotes: nucleotide sequence should be the spliced mRNA and the coordinates should span the entire locus\n",
    "- **Pathway Table:**\n",
    "    - Fields: name and description\n",
    "- Pick four enzymes from each pathway\n",
    "- Gather information and sequences from Drosophila, E. coli, and humans for those enzymes"
   ]
  },
  {
   "cell_type": "code",
   "execution_count": 300,
   "metadata": {},
   "outputs": [],
   "source": [
    "#different functions to import \n",
    "import sqlite3\n",
    "from Bio import Entrez\n",
    "from Bio import SeqIO\n",
    "from Bio.Seq import Seq\n",
    "import numpy as np\n",
    "import time \n",
    "from Bio.ExPASy import Enzyme"
   ]
  },
  {
   "cell_type": "markdown",
   "metadata": {},
   "source": [
    "## Pathway Table\n",
    "This table was created manually. I got the Descriptions from google and it just consists of what each cycle is."
   ]
  },
  {
   "cell_type": "code",
   "execution_count": 4,
   "metadata": {},
   "outputs": [
    {
     "name": "stdout",
     "output_type": "stream",
     "text": [
      "('Citric (TCA) Cycle', 'It is a series of chemical reactions used by all aerobic organisms to release stored energy through the oxidation of acetyl-CoA derived from carbohydrates, fats, and proteins, into adenosine triphosphate and carbon dioxide. Also Known as KREBS cycle')\n"
     ]
    }
   ],
   "source": [
    "conn = sqlite3.connect('Lab4_database.db')\n",
    "c=conn.cursor()\n",
    "\n",
    "c.execute(\"\"\"CREATE TABLE pathways (name TEXT,\n",
    "                                   description TEXT);\"\"\")\n",
    "\n",
    "c.execute(\"\"\"INSERT INTO pathways (name,\n",
    "                                   description)\n",
    "                           VALUES ('Glycolysis',\n",
    "                                   'It is the process of breaking down glucose into two molecules of pyruvate; It produces ATP')\"\"\")\n",
    "#conn.commit()\n",
    "\n",
    "c.execute(\"\"\"INSERT INTO pathways (name,\n",
    "                                   description)\n",
    "                           VALUES ('Citric (TCA) Cycle',\n",
    "                                   'It is a series of chemical reactions used by all aerobic organisms to release stored energy through the oxidation of acetyl-CoA derived from carbohydrates, fats, and proteins, into adenosine triphosphate and carbon dioxide. Also Known as KREBS cycle')\"\"\")\n",
    "#conn.commit()\n",
    "\n",
    "c.execute(\"\"\"INSERT INTO pathways (name,\n",
    "                                   description)\n",
    "                           VALUES ('Pentose Phosphate Pathway',\n",
    "                                   'It is a metabolic process parallel to glycolysis. It generates NADPH, pentoses, and ribose 5-phosphate. It does involve the oxidation of glucose, but its main purpose is anabolic rather than catabolic')\"\"\")\n",
    "#conn.commit()\n",
    "\n",
    "c.execute(\"SELECT * FROM pathways WHERE name= 'Citric (TCA) Cycle'\")\n",
    "print(c.fetchone())\n"
   ]
  },
  {
   "cell_type": "code",
   "execution_count": 5,
   "metadata": {},
   "outputs": [],
   "source": [
    "conn.commit()"
   ]
  },
  {
   "cell_type": "markdown",
   "metadata": {},
   "source": [
    "## Genes Table\n",
    "For this table, I created a for loop. This is because there were 36 rows and to insert all of them manually would take a significant amount of time. I have 3 different for loops, the difference in these for loops is that each loop is for a different organism. Each loop creates 12 rows for the respected organism. \n",
    "\n",
    "I got the gene IDs from the kegg server, made them into int lists and called them into my loop by indexing the list."
   ]
  },
  {
   "cell_type": "code",
   "execution_count": 215,
   "metadata": {},
   "outputs": [],
   "source": [
    "c.execute(\"\"\"CREATE TABLE Genes (name TEXT,\n",
    "                                 description TEXT,\n",
    "                                 nucleotide_seq TEXT,\n",
    "                                 organism TEXT);\"\"\")\n",
    "\n",
    "conn.commit()"
   ]
  },
  {
   "cell_type": "code",
   "execution_count": 216,
   "metadata": {},
   "outputs": [],
   "source": [
    "homosapien= [5236, 2538, 2203, 2597, 3419, 1738, 4190, 6392, 25796, 2821, 6120, 2203]"
   ]
  },
  {
   "cell_type": "code",
   "execution_count": 217,
   "metadata": {},
   "outputs": [],
   "source": [
    "for i in range(11):\n",
    "\n",
    "    handle = Entrez.efetch(db= 'nuccore', id= homosapien[i], rettype= 'gb', retmode= 'text', retmax= 1)\n",
    "    record= SeqIO.read(handle, \"genbank\")\n",
    "    n = record.name\n",
    "    d= record.description \n",
    "    seq= str(record.seq)\n",
    "    h= 'homosapiens'\n",
    "    \n",
    "    c.execute(\"\"\"INSERT INTO Genes (name, \n",
    "                               description,\n",
    "                               nucleotide_seq,\n",
    "                               organism)\n",
    "                        VALUES (?,\n",
    "                                ?,\n",
    "                                ?,\n",
    "                                ?);\n",
    "    \"\"\", (str(n), str(d), str(seq), str(h)))\n",
    "    conn.commit()\n",
    "    \n",
    "    time.sleep(1)"
   ]
  },
  {
   "cell_type": "code",
   "execution_count": 246,
   "metadata": {},
   "outputs": [],
   "source": [
    "Ecoli= [946266, 946572, 945773, 945068, 944864, 948668, 946826, 948680, 948074, 947937, 948041, 946370]"
   ]
  },
  {
   "cell_type": "code",
   "execution_count": 247,
   "metadata": {},
   "outputs": [],
   "source": [
    "for i in range(11):\n",
    "\n",
    "    handle = Entrez.efetch(db= 'nuccore', id= Ecoli[i], rettype= 'gb', retmode= 'text', retmax= 1)\n",
    "    record= SeqIO.read(handle, \"genbank\")\n",
    "    n = record.name\n",
    "    d= record.description \n",
    "    seq= str(record.seq)\n",
    "    h= 'e_coli'\n",
    "    \n",
    "    c.execute(\"\"\"INSERT INTO Genes (name, \n",
    "                               description,\n",
    "                               nucleotide_seq,\n",
    "                               organism)\n",
    "                        VALUES (?,\n",
    "                                ?,\n",
    "                                ?,\n",
    "                                ?);\n",
    "    \"\"\", (str(n), str(d), str(seq), str(h)))\n",
    "    conn.commit()\n",
    "    \n",
    "    time.sleep(1)"
   ]
  },
  {
   "cell_type": "code",
   "execution_count": 256,
   "metadata": {},
   "outputs": [],
   "source": [
    "Drosophila=[43582, 45398, 43437, 40409, 41468, 44291, 32940, 39899, 40875, 33431, 36358, 31007]"
   ]
  },
  {
   "cell_type": "code",
   "execution_count": 257,
   "metadata": {},
   "outputs": [],
   "source": [
    "for i in range(11):\n",
    "\n",
    "    handle = Entrez.efetch(db= 'nuccore', id= Drosophila[i], rettype= 'gb', retmode= 'text', retmax= 1)\n",
    "    record= SeqIO.read(handle, \"genbank\")\n",
    "    n = record.name\n",
    "    d= record.description \n",
    "    seq= str(record.seq)\n",
    "    h= 'drosophila'\n",
    "    \n",
    "    c.execute(\"\"\"INSERT INTO Genes (name, \n",
    "                               description,\n",
    "                               nucleotide_seq,\n",
    "                               organism)\n",
    "                        VALUES (?,\n",
    "                                ?,\n",
    "                                ?,\n",
    "                                ?);\n",
    "    \"\"\", (str(n), str(d), str(seq), str(h)))\n",
    "    conn.commit()\n",
    "    \n",
    "    time.sleep(1)"
   ]
  },
  {
   "cell_type": "code",
   "execution_count": 258,
   "metadata": {},
   "outputs": [],
   "source": [
    "c.close()"
   ]
  },
  {
   "cell_type": "markdown",
   "metadata": {},
   "source": [
    "## Enzyme Table\n",
    "This table was a bit more complex for me. My issue was extracting the EC number, each method I would use would extract the wrong ID. So I ended up grabbing it manually because I wasnt quite sure what else to do. Also, once I completed the table I realized it would have been a good idea to use the same enzyme gene relationship so I can create my associative table from their relationship. However, I realized that too late and I dont have enough time to go back and redo it."
   ]
  },
  {
   "cell_type": "code",
   "execution_count": 321,
   "metadata": {},
   "outputs": [],
   "source": [
    "conn = sqlite3.connect('Lab4_database.db')\n",
    "c=conn.cursor()\n",
    "\n",
    "c.execute(\"\"\"CREATE TABLE Enzymes (name TEXT,\n",
    "                                   function TEXT,\n",
    "                                   ECnum INT);\"\"\")\n",
    "conn.commit()"
   ]
  },
  {
   "cell_type": "code",
   "execution_count": 377,
   "metadata": {},
   "outputs": [],
   "source": [
    "Entrez.email = 'rshammet@berkeley.edu'\n",
    "handle= Entrez.esearch(db ='protein',\n",
    "                      term = 'homo sapiens[ORGN] BRCA1',\n",
    "                      sort = 'relevance',\n",
    "                      idtype= 'acc')\n",
    "\n",
    "fruitfly= ['NP_523411', 'NP_572656', 'NP_001261640', 'NP_523411','NP_650152' , 'NP_650042', 'NP_001137910', \n",
    "            'NP_001097629', 'NP_001097063', 'NP_001285908', 'NP_001247314', 'NP_001034075' ]\n",
    "ec=['1.1.1.49', '3.1.1.31', '2.7.6.1', '1.1.1.49', '2.3.3.1', '4.2.1.3', '1.1.1.42', '1.2.4.2', '3.1.3.9', '5.1.3.15'\n",
    "    , '4.1.2.13', '5.4.2.11' ]\n",
    "\n",
    "\n",
    "for i in range(11):\n",
    "    handle = Entrez.efetch(db= 'protein', id= fruitfly[i], rettype = 'gb', retmode= 'text')\n",
    "    \n",
    "    records= SeqIO.read(handle,\"genbank\")\n",
    "    name= records.description\n",
    "    function= records.features\n",
    "    time.sleep(1)\n",
    "    \n",
    "    c.execute(\"\"\"INSERT INTO Enzymes (name, \n",
    "                                      function,\n",
    "                                      ECnum)\n",
    "                              VALUES (?,\n",
    "                                      ?,\n",
    "                                      ?);\n",
    "    \"\"\", (str(name), str(function[1]), str(ec[i])))\n",
    "    conn.commit()\n",
    "    \n",
    "    time.sleep(1)"
   ]
  },
  {
   "cell_type": "code",
   "execution_count": 387,
   "metadata": {},
   "outputs": [],
   "source": [
    "human= ['NP_002624', 'NP_000153', 'NP_001121089', 'NP_001280014', 'NP_004068','NP_001265281', 'NP_001269315', \n",
    "        'NP_002532', 'NP_004674', 'NP_001035810', 'NP_001055', 'NP_954699']\n",
    "ec=['5.4.2.2','2.7.1.2', '4.1.2.13', '5.4.2.4', '2.3.3.1', '4.2.1.3', '1.1.1.42', '1.2.4.2', '3.1.1.17',\n",
    "    '1.1.1.49', '2.2.1.1', '5.1.3.1']\n",
    "\n",
    "\n",
    "for i in range(11):\n",
    "    handle = Entrez.efetch(db= 'protein', id= human[i], rettype = 'gb', retmode= 'text')\n",
    "    \n",
    "    records= SeqIO.read(handle,\"genbank\")\n",
    "    name= records.description\n",
    "    function= records.features\n",
    "    time.sleep(1)\n",
    "    \n",
    "    c.execute(\"\"\"INSERT INTO Enzymes (name, \n",
    "                                      function,\n",
    "                                      ECnum)\n",
    "                              VALUES (?,\n",
    "                                      ?,\n",
    "                                      ?);\n",
    "    \"\"\", (str(name), str(function[1]), str(ec[i])))\n",
    "    conn.commit()\n",
    "    \n",
    "    time.sleep(1)"
   ]
  },
  {
   "cell_type": "code",
   "execution_count": 388,
   "metadata": {},
   "outputs": [],
   "source": [
    "ecoli= ['NP_414666', 'NP_417894', 'NP_416960', 'NP_418449','NP_415248', 'NP_415292', 'NP_415654', 'NP_415254',\n",
    "        'NP_415522', 'NP_416600', 'NP_417862', 'NP_414656']\n",
    "ec=['1.1.5.2', '2.7.1.12', '2.2.1.1', '5.3.1.9','2.3.3.1', '4.2.1.3', '1.1.1.42', '1.2.4.2','3.1.3.10', '4.1.2.13', \n",
    "    '4.1.1.49', '1.2.4.1']\n",
    "\n",
    "\n",
    "for i in range(11):\n",
    "    handle = Entrez.efetch(db= 'protein', id= ecoli[i], rettype = 'gb', retmode= 'text')\n",
    "    \n",
    "    records= SeqIO.read(handle,\"genbank\")\n",
    "    name= records.description\n",
    "    function= records.features\n",
    "    time.sleep(1)\n",
    "    \n",
    "    c.execute(\"\"\"INSERT INTO Enzymes (name, \n",
    "                                      function,\n",
    "                                      ECnum)\n",
    "                              VALUES (?,\n",
    "                                      ?,\n",
    "                                      ?);\n",
    "    \"\"\", (str(name), str(function[1]), str(ec[i])))\n",
    "    conn.commit()\n",
    "    \n",
    "    time.sleep(1)"
   ]
  },
  {
   "cell_type": "code",
   "execution_count": 413,
   "metadata": {},
   "outputs": [],
   "source": [
    "c.close()"
   ]
  },
  {
   "cell_type": "markdown",
   "metadata": {},
   "source": [
    "## Associative Table\n",
    "This table compares the gene name, with the enzyme name, and gives the EC number for the pair"
   ]
  },
  {
   "cell_type": "code",
   "execution_count": 414,
   "metadata": {},
   "outputs": [],
   "source": [
    "conn = sqlite3.connect('Lab4_database.db')\n",
    "c=conn.cursor()\n",
    "\n",
    "c.execute(\"\"\"CREATE TABLE Assoc (name_gene TEXT,\n",
    "                                 name_enzyme TEXT,\n",
    "                                 ECnum INT);\"\"\")\n",
    "conn.commit()"
   ]
  },
  {
   "cell_type": "code",
   "execution_count": 446,
   "metadata": {},
   "outputs": [],
   "source": [
    "c.execute(\"\"\"SELECT name FROM Genes\"\"\")\n",
    "gname= c.fetchall()\n",
    "    \n",
    "c.execute(\"\"\"SELECT name FROM Enzymes\"\"\")\n",
    "ename= c.fetchall()\n",
    "    \n",
    "c.execute(\"\"\"SELECT ECnum FROM Enzymes\"\"\")\n",
    "ecnum= c.fetchall()"
   ]
  },
  {
   "cell_type": "code",
   "execution_count": null,
   "metadata": {},
   "outputs": [],
   "source": [
    "for i in range(33):    \n",
    "    c.execute(\"\"\"INSERT INTO Assoc (name_gene,\n",
    "                                    name_enzyme,\n",
    "                                    ECnum)\n",
    "                            VALUES (?,\n",
    "                                    ?,\n",
    "                                    ?);\n",
    "    \"\"\", (str(gname[i]), str(ename[i], str(ecnum[i])))\n",
    "    conn.commit()\n",
    "    time.sleep(1)\n",
    "    "
   ]
  }
 ],
 "metadata": {
  "kernelspec": {
   "display_name": "Python 3",
   "language": "python",
   "name": "python3"
  },
  "language_info": {
   "codemirror_mode": {
    "name": "ipython",
    "version": 3
   },
   "file_extension": ".py",
   "mimetype": "text/x-python",
   "name": "python",
   "nbconvert_exporter": "python",
   "pygments_lexer": "ipython3",
   "version": "3.7.3"
  }
 },
 "nbformat": 4,
 "nbformat_minor": 2
}
